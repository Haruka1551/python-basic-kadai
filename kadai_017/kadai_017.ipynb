{
  "cells": [
    {
      "cell_type": "code",
      "execution_count": 6,
      "metadata": {
        "colab": {
          "base_uri": "https://localhost:8080/"
        },
        "id": "qUNvk0Brr0K3",
        "outputId": "e0e90d07-3bf4-47e5-8e03-dbf5d927235d"
      },
      "outputs": [
        {
          "name": "stdout",
          "output_type": "stream",
          "text": [
            "Aは19歳で大人ではありません\n",
            "Bは20歳で大人です\n",
            "Cは22歳で大人です\n",
            "Dは23歳で大人です\n",
            "Eは18歳で大人ではありません\n"
          ]
        }
      ],
      "source": [
        "#課題017\n",
        "class Human:\n",
        "  def __init__(self,name,age):\n",
        "    self.name = name\n",
        "    self.age = age\n",
        "\n",
        "  def adult_check(self):\n",
        "    if self.age >= 20:\n",
        "      print(f\"{self.name}は{self.age}歳で大人です\")\n",
        "    else :\n",
        "      print(f\"{self.name}は{self.age}歳で大人ではありません\")\n",
        "\n",
        "humans = [\n",
        "    Human(\"A\",19),\n",
        "    Human(\"B\",20),\n",
        "    Human(\"C\",22),\n",
        "    Human(\"D\",23),\n",
        "    Human(\"E\",18),\n",
        "]\n",
        "\n",
        "for h in humans:\n",
        "  h.adult_check()\n",
        "\n",
        "\n"
      ]
    }
  ],
  "metadata": {
    "colab": {
      "provenance": []
    },
    "kernelspec": {
      "display_name": "Python 3",
      "name": "python3"
    },
    "language_info": {
      "name": "python"
    }
  },
  "nbformat": 4,
  "nbformat_minor": 0
}
