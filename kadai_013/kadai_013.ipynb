{
  "cells": [
    {
      "cell_type": "code",
      "execution_count": 27,
      "metadata": {
        "colab": {
          "base_uri": "https://localhost:8080/"
        },
        "id": "iWffj5sVlhV0",
        "outputId": "8cf030c0-7ea4-4f4f-fa52-4eb339d7b488"
      },
      "outputs": [
        {
          "data": {
            "text/plain": [
              "121.0"
            ]
          },
          "execution_count": 27,
          "metadata": {},
          "output_type": "execute_result"
        }
      ],
      "source": [
        "#課題013\n",
        "\n",
        "def calculate_total(price,tax):\n",
        "  total_price = price +( price * tax / 100)\n",
        "  return total_price\n",
        "  print(total_price)\n",
        "\n",
        "calculate_total(110,10)"
      ]
    }
  ],
  "metadata": {
    "colab": {
      "provenance": []
    },
    "kernelspec": {
      "display_name": "Python 3",
      "name": "python3"
    },
    "language_info": {
      "name": "python"
    }
  },
  "nbformat": 4,
  "nbformat_minor": 0
}
