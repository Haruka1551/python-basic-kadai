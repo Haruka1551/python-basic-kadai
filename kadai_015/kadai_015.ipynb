{
  "cells": [
    {
      "cell_type": "code",
      "execution_count": 1,
      "metadata": {
        "colab": {
          "base_uri": "https://localhost:8080/"
        },
        "id": "ZkIhIZ1p1Ek7",
        "outputId": "69300dda-1ce4-485a-cc8e-ca2c4a519a4a"
      },
      "outputs": [
        {
          "name": "stdout",
          "output_type": "stream",
          "text": [
            "name:A,Age:20\n",
            "name:B,Age:25\n"
          ]
        }
      ],
      "source": [
        "#課題_015\n",
        "class Human:\n",
        "  def __init__(self,name,age):\n",
        "    self.name = name\n",
        "    self.age = age\n",
        "\n",
        "  def printinfo(self):\n",
        "    print(f\"name:{self.name},Age:{self.age}\")\n",
        "\n",
        "human1 = Human(\"A\",20)\n",
        "human2 = Human(\"B\",25)\n",
        "\n",
        "human1.printinfo()\n",
        "human2.printinfo()\n"
      ]
    }
  ],
  "metadata": {
    "colab": {
      "provenance": []
    },
    "kernelspec": {
      "display_name": "Python 3",
      "name": "python3"
    },
    "language_info": {
      "name": "python"
    }
  },
  "nbformat": 4,
  "nbformat_minor": 0
}
